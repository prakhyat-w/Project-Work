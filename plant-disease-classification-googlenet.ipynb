{
 "cells": [
  {
   "cell_type": "code",
   "execution_count": 1,
   "metadata": {
    "execution": {
     "iopub.execute_input": "2023-07-19T13:05:15.758863Z",
     "iopub.status.busy": "2023-07-19T13:05:15.758097Z",
     "iopub.status.idle": "2023-07-19T13:05:18.053705Z",
     "shell.execute_reply": "2023-07-19T13:05:18.052637Z",
     "shell.execute_reply.started": "2023-07-19T13:05:15.758788Z"
    }
   },
   "outputs": [],
   "source": [
    "import tensorflow as tf\n",
    "from tensorflow.keras.models import Sequential,Model\n",
    "from tensorflow.keras.layers import Dense,Flatten,Conv2D,MaxPooling2D\n",
    "from tensorflow.keras.layers import AveragePooling2D\n",
    "from tensorflow.keras.layers  import Concatenate\n",
    "from tensorflow.keras.layers import AveragePooling2D, Dropout, Input, BatchNormalization\n",
    "from tensorflow import keras\n",
    "from tensorflow.keras import layers\n",
    "from tensorflow.keras.optimizers import SGD\n",
    "from tensorflow.keras.optimizers import Adam\n",
    "from sklearn.metrics import classification_report, confusion_matrix\n",
    "from PIL import Image\n",
    "from tqdm import tqdm\n",
    "import urllib\n",
    "from tensorflow.keras.preprocessing import image\n",
    "from sklearn.metrics import precision_recall_curve,roc_curve, auc\n",
    "from sklearn.metrics import accuracy_score\n",
    "from sklearn.metrics import roc_auc_score\n",
    "import matplotlib.pyplot as plt\n",
    "import os\n",
    "from sklearn.metrics import log_loss, brier_score_loss\n",
    "from sklearn.metrics import cohen_kappa_score\n",
    "import matplotlib.cm as cm\n",
    "from sklearn.metrics import matthews_corrcoef\n",
    "import pandas as pd\n",
    "import seaborn as sns\n",
    "import numpy as np\n",
    "import cv2\n",
    "from sklearn.preprocessing import label_binarize\n",
    "from sklearn.metrics import average_precision_score\n",
    "from tensorflow.keras.utils import to_categorical\n",
    "%matplotlib inline\n"
   ]
  },
  {
   "cell_type": "markdown",
   "metadata": {},
   "source": [
    "### Read data"
   ]
  },
  {
   "cell_type": "code",
   "execution_count": 2,
   "metadata": {
    "execution": {
     "iopub.execute_input": "2023-07-19T13:05:18.060475Z",
     "iopub.status.busy": "2023-07-19T13:05:18.060099Z",
     "iopub.status.idle": "2023-07-19T13:05:18.066935Z",
     "shell.execute_reply": "2023-07-19T13:05:18.065253Z",
     "shell.execute_reply.started": "2023-07-19T13:05:18.060437Z"
    }
   },
   "outputs": [],
   "source": [
    "image_path=\"../input/new-plant-diseases-dataset/New Plant Diseases Dataset(Augmented)/New Plant Diseases Dataset(Augmented)/train/\""
   ]
  },
  {
   "cell_type": "code",
   "execution_count": 3,
   "metadata": {
    "execution": {
     "iopub.execute_input": "2023-07-19T13:05:18.069711Z",
     "iopub.status.busy": "2023-07-19T13:05:18.068302Z",
     "iopub.status.idle": "2023-07-19T13:05:18.078808Z",
     "shell.execute_reply": "2023-07-19T13:05:18.077676Z",
     "shell.execute_reply.started": "2023-07-19T13:05:18.069682Z"
    }
   },
   "outputs": [],
   "source": [
    "train_image_path=\"../input/new-plant-diseases-dataset/New Plant Diseases Dataset(Augmented)/New Plant Diseases Dataset(Augmented)/train/\"\n",
    "valid_image_path=\"../input/new-plant-diseases-dataset/New Plant Diseases Dataset(Augmented)/New Plant Diseases Dataset(Augmented)/valid/\"\n",
    "test_image_path=\"../input/new-plant-diseases-dataset/test/\""
   ]
  },
  {
   "cell_type": "markdown",
   "metadata": {},
   "source": [
    "### Class names\n",
    "\n"
   ]
  },
  {
   "cell_type": "code",
   "execution_count": 4,
   "metadata": {
    "execution": {
     "iopub.execute_input": "2023-07-19T13:05:18.082893Z",
     "iopub.status.busy": "2023-07-19T13:05:18.082480Z",
     "iopub.status.idle": "2023-07-19T13:05:18.092678Z",
     "shell.execute_reply": "2023-07-19T13:05:18.091436Z",
     "shell.execute_reply.started": "2023-07-19T13:05:18.082856Z"
    }
   },
   "outputs": [
    {
     "name": "stdout",
     "output_type": "stream",
     "text": [
      "['Tomato___Late_blight', 'Tomato___healthy', 'Grape___healthy', 'Orange___Haunglongbing_(Citrus_greening)', 'Soybean___healthy', 'Squash___Powdery_mildew', 'Potato___healthy', 'Corn_(maize)___Northern_Leaf_Blight', 'Tomato___Early_blight', 'Tomato___Septoria_leaf_spot', 'Corn_(maize)___Cercospora_leaf_spot Gray_leaf_spot', 'Strawberry___Leaf_scorch', 'Peach___healthy', 'Apple___Apple_scab', 'Tomato___Tomato_Yellow_Leaf_Curl_Virus', 'Tomato___Bacterial_spot', 'Apple___Black_rot', 'Blueberry___healthy', 'Cherry_(including_sour)___Powdery_mildew', 'Peach___Bacterial_spot', 'Apple___Cedar_apple_rust', 'Tomato___Target_Spot', 'Pepper,_bell___healthy', 'Grape___Leaf_blight_(Isariopsis_Leaf_Spot)', 'Potato___Late_blight', 'Tomato___Tomato_mosaic_virus', 'Strawberry___healthy', 'Apple___healthy', 'Grape___Black_rot', 'Potato___Early_blight', 'Cherry_(including_sour)___healthy', 'Corn_(maize)___Common_rust_', 'Grape___Esca_(Black_Measles)', 'Raspberry___healthy', 'Tomato___Leaf_Mold', 'Tomato___Spider_mites Two-spotted_spider_mite', 'Pepper,_bell___Bacterial_spot', 'Corn_(maize)___healthy']\n"
     ]
    }
   ],
   "source": [
    "class_names = os.listdir(image_path)\n",
    "print(class_names)"
   ]
  },
  {
   "cell_type": "code",
   "execution_count": 11,
   "metadata": {
    "execution": {
     "iopub.execute_input": "2023-07-19T13:13:53.098001Z",
     "iopub.status.busy": "2023-07-19T13:13:53.097073Z",
     "iopub.status.idle": "2023-07-19T13:13:53.101875Z",
     "shell.execute_reply": "2023-07-19T13:13:53.100991Z",
     "shell.execute_reply.started": "2023-07-19T13:13:53.097964Z"
    }
   },
   "outputs": [],
   "source": [
    "batch_size=32"
   ]
  },
  {
   "cell_type": "code",
   "execution_count": 12,
   "metadata": {
    "execution": {
     "iopub.execute_input": "2023-07-19T13:13:53.103943Z",
     "iopub.status.busy": "2023-07-19T13:13:53.103092Z",
     "iopub.status.idle": "2023-07-19T13:13:53.113021Z",
     "shell.execute_reply": "2023-07-19T13:13:53.112006Z",
     "shell.execute_reply.started": "2023-07-19T13:13:53.103905Z"
    }
   },
   "outputs": [],
   "source": [
    "traindata_generator=tf.keras.preprocessing.image.ImageDataGenerator(rescale=1./255,zoom_range=0.2,width_shift_range=0.2,height_shift_range=0.2,\n",
    "                                                                    shear_range=0.2, horizontal_flip=True,validation_split=0.2)\n",
    "\n",
    "validdata_generator=tf.keras.preprocessing.image.ImageDataGenerator(rescale=1./255)\n",
    "testdata_generator=tf.keras.preprocessing.image.ImageDataGenerator(rescale=1./255)"
   ]
  },
  {
   "cell_type": "code",
   "execution_count": 13,
   "metadata": {
    "execution": {
     "iopub.execute_input": "2023-07-19T13:13:53.122051Z",
     "iopub.status.busy": "2023-07-19T13:13:53.121485Z",
     "iopub.status.idle": "2023-07-19T13:14:09.531005Z",
     "shell.execute_reply": "2023-07-19T13:14:09.529973Z",
     "shell.execute_reply.started": "2023-07-19T13:13:53.122015Z"
    }
   },
   "outputs": [
    {
     "name": "stdout",
     "output_type": "stream",
     "text": [
      "Found 70295 images belonging to 38 classes.\n"
     ]
    }
   ],
   "source": [
    "train_data_generator=traindata_generator.flow_from_directory(train_image_path,batch_size=batch_size,class_mode=\"categorical\",\n",
    "                                                           target_size=(120,120),color_mode=\"rgb\",shuffle=True )"
   ]
  },
  {
   "cell_type": "code",
   "execution_count": 14,
   "metadata": {
    "execution": {
     "iopub.execute_input": "2023-07-19T13:14:09.533008Z",
     "iopub.status.busy": "2023-07-19T13:14:09.532610Z",
     "iopub.status.idle": "2023-07-19T13:14:24.409740Z",
     "shell.execute_reply": "2023-07-19T13:14:24.408489Z",
     "shell.execute_reply.started": "2023-07-19T13:14:09.532944Z"
    }
   },
   "outputs": [
    {
     "name": "stdout",
     "output_type": "stream",
     "text": [
      "Found 70295 images belonging to 38 classes.\n"
     ]
    }
   ],
   "source": [
    "valid_data_generator=validdata_generator.flow_from_directory(train_image_path,batch_size=batch_size,class_mode=\"categorical\",\n",
    "                                                           target_size=(120,120),color_mode=\"rgb\",shuffle=True )"
   ]
  },
  {
   "cell_type": "code",
   "execution_count": 15,
   "metadata": {
    "execution": {
     "iopub.execute_input": "2023-07-19T13:14:24.413245Z",
     "iopub.status.busy": "2023-07-19T13:14:24.411262Z",
     "iopub.status.idle": "2023-07-19T13:14:25.984070Z",
     "shell.execute_reply": "2023-07-19T13:14:25.983021Z",
     "shell.execute_reply.started": "2023-07-19T13:14:24.413202Z"
    }
   },
   "outputs": [
    {
     "name": "stdout",
     "output_type": "stream",
     "text": [
      "Found 17572 images belonging to 38 classes.\n"
     ]
    }
   ],
   "source": [
    "test_data_generator=testdata_generator.flow_from_directory(valid_image_path,batch_size=batch_size,class_mode=\"categorical\",\n",
    "                                                           target_size=(120,120),color_mode=\"rgb\",shuffle=False )"
   ]
  },
  {
   "cell_type": "code",
   "execution_count": 16,
   "metadata": {
    "execution": {
     "iopub.execute_input": "2023-07-19T13:14:25.986058Z",
     "iopub.status.busy": "2023-07-19T13:14:25.985676Z",
     "iopub.status.idle": "2023-07-19T13:14:25.993914Z",
     "shell.execute_reply": "2023-07-19T13:14:25.992688Z",
     "shell.execute_reply.started": "2023-07-19T13:14:25.986020Z"
    }
   },
   "outputs": [],
   "source": [
    "train_number=train_data_generator.samples\n",
    "valid_number=valid_data_generator.samples"
   ]
  },
  {
   "cell_type": "code",
   "execution_count": 17,
   "metadata": {
    "execution": {
     "iopub.execute_input": "2023-07-19T13:14:25.996599Z",
     "iopub.status.busy": "2023-07-19T13:14:25.995629Z",
     "iopub.status.idle": "2023-07-19T13:14:26.032517Z",
     "shell.execute_reply": "2023-07-19T13:14:26.031496Z",
     "shell.execute_reply.started": "2023-07-19T13:14:25.996568Z"
    }
   },
   "outputs": [],
   "source": [
    "def inceptionnet(x,filters):\n",
    "    \n",
    "    #(1x1) layer\n",
    "    layer1=Conv2D(filters=filters[0],kernel_size=(1,1),strides=1,padding=\"same\",activation=\"relu\")(x)\n",
    "    \n",
    "    #(3x3) layer\n",
    "    layer2=Conv2D(filters=filters[1][0],kernel_size=(1,1),strides=1,padding=\"same\",activation=\"relu\")(x)\n",
    "    \n",
    "\n",
    "    layer2=Conv2D(filters=filters[1][1],kernel_size=(1,1),strides=1,padding=\"same\",activation=\"relu\")(layer2)\n",
    "    \n",
    "    #(5x5) layer\n",
    "    \n",
    "    layer3=Conv2D(filters=filters[2][0],kernel_size=(5,5),strides=1,padding=\"same\",activation=\"relu\")(x)\n",
    "    \n",
    "    layers=Conv2D(filters=filters[2][1],kernel_size=(5,5),strides=1,padding=\"same\",activation=\"relu\")(layer3)\n",
    "    \n",
    "    \n",
    "    \n",
    "    layer4=MaxPooling2D(pool_size=(3,3),strides=1,padding=\"same\")(x)\n",
    "    layer4=Conv2D(filters=filters[3],kernel_size=(1,1),strides=1,padding=\"same\",activation=\"relu\")(layer4)\n",
    "    \n",
    "    \n",
    "    return Concatenate(axis=-1)([layer1,layer2,layer3,layer4])\n",
    "    \n",
    "    \n",
    "def helperfunction(x,name=None):\n",
    "    \n",
    "    layer=AveragePooling2D(pool_size=(5,5),strides=3,padding=\"valid\")(x)\n",
    "    \n",
    "    layer=Conv2D(filters=128,kernel_size=(1,1),strides=1,padding=\"same\",activation=\"relu\")(layer)\n",
    "    \n",
    "    layer=Flatten()(layer)\n",
    "    \n",
    "    layer=Dense(units=255,activation=\"relu\")(layer)\n",
    "    \n",
    "    layer=Dropout(0.4)(layer)\n",
    "    layer=Dense(units=38,activation=\"softmax\",name=name)(layer)\n",
    "    \n",
    "    return layer\n",
    "    \n",
    "       \n",
    "def googlenet():\n",
    "    \n",
    "    #taking layer input\n",
    "    inputlayer=Input(shape=(120,120,3))\n",
    "    \n",
    "    #layer_1\n",
    "    layer=Conv2D(filters=64,kernel_size=(7,7),strides=1,padding=\"same\",activation=\"relu\")(inputlayer)\n",
    "    \n",
    "    layer=MaxPooling2D(pool_size=(3,3),strides=2,padding=\"same\")(layer)\n",
    "    \n",
    "    layer=BatchNormalization()(layer)\n",
    "    \n",
    "    #layer_2\n",
    "    layer=Conv2D(filters=64,kernel_size=(1,1),strides=1,padding=\"same\",activation=\"relu\")(layer)\n",
    "    \n",
    "    layer=Conv2D(filters=192,kernel_size=(3,3),strides=1,padding=\"same\",activation=\"relu\")(layer)\n",
    "    \n",
    "    layer=BatchNormalization()(layer)\n",
    "    layer=MaxPooling2D(pool_size=(3,3),strides=2,padding=\"same\")(layer)\n",
    "    \n",
    "    #layer_3\n",
    "    layer=inceptionnet(layer,[64,(96,128),(16,32),32])\n",
    "    layer=inceptionnet(layer,[128,(128,192),(32,96),64])\n",
    "    layer=MaxPooling2D(pool_size=(3,3),strides=2,padding=\"same\")(layer)\n",
    "    \n",
    "    #layer_4\n",
    "    layer=inceptionnet(layer,[192,(96,208),(16,48),64])\n",
    "    final_0=helperfunction(layer,name=\"final_layer_0\")\n",
    "    \n",
    "    layer=inceptionnet(layer,[160,(112,224),(24,64),64])\n",
    "    layer=inceptionnet(layer,[128,(128,256),(24,64),64])\n",
    "    layer=inceptionnet(layer,[112,(144,288),(32,64),64])\n",
    "    final_1=helperfunction(layer,name=\"final_layer_1\")\n",
    "    \n",
    "    layer=inceptionnet(layer,[256,(160,320),(32,128),128])\n",
    "    layer=MaxPooling2D(pool_size=(3,3),strides=2,padding=\"same\")(layer)\n",
    "    \n",
    "    \n",
    "    #layer_5\n",
    "    layer=inceptionnet(layer,[256,(160,320),(32,128),128])\n",
    "    layer=inceptionnet(layer,[384,(192,384),(48,128),128])\n",
    "    layer=AveragePooling2D(pool_size=(7,7),strides=1,padding=\"same\")(layer)\n",
    "    \n",
    "    #layer_6\n",
    "    \n",
    "    layer=Flatten()(layer)\n",
    "    layer=Dropout(0.4)(layer)\n",
    "    layer=Dense(units=256,activation=\"linear\")(layer)\n",
    "    final_2=Dense(units=38,activation=\"softmax\",name=\"final_layer_2\")(layer)\n",
    "    \n",
    "    \n",
    "    model=Model(inputs=inputlayer,outputs=[final_2,final_0,final_1])\n",
    "    \n",
    "    return model\n",
    "    \n",
    "    \n",
    "    \n",
    "          \n",
    "    "
   ]
  },
  {
   "cell_type": "code",
   "execution_count": 18,
   "metadata": {
    "execution": {
     "iopub.execute_input": "2023-07-19T13:14:26.034525Z",
     "iopub.status.busy": "2023-07-19T13:14:26.034153Z",
     "iopub.status.idle": "2023-07-19T13:14:29.466799Z",
     "shell.execute_reply": "2023-07-19T13:14:29.465751Z",
     "shell.execute_reply.started": "2023-07-19T13:14:26.034489Z"
    }
   },
   "outputs": [
    {
     "name": "stdout",
     "output_type": "stream",
     "text": [
      "Model: \"model\"\n",
      "__________________________________________________________________________________________________\n",
      "Layer (type)                    Output Shape         Param #     Connected to                     \n",
      "==================================================================================================\n",
      "input_1 (InputLayer)            [(None, 120, 120, 3) 0                                            \n",
      "__________________________________________________________________________________________________\n",
      "conv2d (Conv2D)                 (None, 120, 120, 64) 9472        input_1[0][0]                    \n",
      "__________________________________________________________________________________________________\n",
      "max_pooling2d (MaxPooling2D)    (None, 60, 60, 64)   0           conv2d[0][0]                     \n",
      "__________________________________________________________________________________________________\n",
      "batch_normalization (BatchNorma (None, 60, 60, 64)   256         max_pooling2d[0][0]              \n",
      "__________________________________________________________________________________________________\n",
      "conv2d_1 (Conv2D)               (None, 60, 60, 64)   4160        batch_normalization[0][0]        \n",
      "__________________________________________________________________________________________________\n",
      "conv2d_2 (Conv2D)               (None, 60, 60, 192)  110784      conv2d_1[0][0]                   \n",
      "__________________________________________________________________________________________________\n",
      "batch_normalization_1 (BatchNor (None, 60, 60, 192)  768         conv2d_2[0][0]                   \n",
      "__________________________________________________________________________________________________\n",
      "max_pooling2d_1 (MaxPooling2D)  (None, 30, 30, 192)  0           batch_normalization_1[0][0]      \n",
      "__________________________________________________________________________________________________\n",
      "conv2d_4 (Conv2D)               (None, 30, 30, 96)   18528       max_pooling2d_1[0][0]            \n",
      "__________________________________________________________________________________________________\n",
      "max_pooling2d_2 (MaxPooling2D)  (None, 30, 30, 192)  0           max_pooling2d_1[0][0]            \n",
      "__________________________________________________________________________________________________\n",
      "conv2d_3 (Conv2D)               (None, 30, 30, 64)   12352       max_pooling2d_1[0][0]            \n",
      "__________________________________________________________________________________________________\n",
      "conv2d_5 (Conv2D)               (None, 30, 30, 128)  12416       conv2d_4[0][0]                   \n",
      "__________________________________________________________________________________________________\n",
      "conv2d_6 (Conv2D)               (None, 30, 30, 16)   76816       max_pooling2d_1[0][0]            \n",
      "__________________________________________________________________________________________________\n",
      "conv2d_8 (Conv2D)               (None, 30, 30, 32)   6176        max_pooling2d_2[0][0]            \n",
      "__________________________________________________________________________________________________\n",
      "concatenate (Concatenate)       (None, 30, 30, 240)  0           conv2d_3[0][0]                   \n",
      "                                                                 conv2d_5[0][0]                   \n",
      "                                                                 conv2d_6[0][0]                   \n",
      "                                                                 conv2d_8[0][0]                   \n",
      "__________________________________________________________________________________________________\n",
      "conv2d_10 (Conv2D)              (None, 30, 30, 128)  30848       concatenate[0][0]                \n",
      "__________________________________________________________________________________________________\n",
      "max_pooling2d_3 (MaxPooling2D)  (None, 30, 30, 240)  0           concatenate[0][0]                \n",
      "__________________________________________________________________________________________________\n",
      "conv2d_9 (Conv2D)               (None, 30, 30, 128)  30848       concatenate[0][0]                \n",
      "__________________________________________________________________________________________________\n",
      "conv2d_11 (Conv2D)              (None, 30, 30, 192)  24768       conv2d_10[0][0]                  \n",
      "__________________________________________________________________________________________________\n",
      "conv2d_12 (Conv2D)              (None, 30, 30, 32)   192032      concatenate[0][0]                \n",
      "__________________________________________________________________________________________________\n",
      "conv2d_14 (Conv2D)              (None, 30, 30, 64)   15424       max_pooling2d_3[0][0]            \n",
      "__________________________________________________________________________________________________\n",
      "concatenate_1 (Concatenate)     (None, 30, 30, 416)  0           conv2d_9[0][0]                   \n",
      "                                                                 conv2d_11[0][0]                  \n",
      "                                                                 conv2d_12[0][0]                  \n",
      "                                                                 conv2d_14[0][0]                  \n",
      "__________________________________________________________________________________________________\n",
      "max_pooling2d_4 (MaxPooling2D)  (None, 15, 15, 416)  0           concatenate_1[0][0]              \n",
      "__________________________________________________________________________________________________\n",
      "conv2d_16 (Conv2D)              (None, 15, 15, 96)   40032       max_pooling2d_4[0][0]            \n",
      "__________________________________________________________________________________________________\n",
      "max_pooling2d_5 (MaxPooling2D)  (None, 15, 15, 416)  0           max_pooling2d_4[0][0]            \n",
      "__________________________________________________________________________________________________\n",
      "conv2d_15 (Conv2D)              (None, 15, 15, 192)  80064       max_pooling2d_4[0][0]            \n",
      "__________________________________________________________________________________________________\n",
      "conv2d_17 (Conv2D)              (None, 15, 15, 208)  20176       conv2d_16[0][0]                  \n",
      "__________________________________________________________________________________________________\n",
      "conv2d_18 (Conv2D)              (None, 15, 15, 16)   166416      max_pooling2d_4[0][0]            \n",
      "__________________________________________________________________________________________________\n",
      "conv2d_20 (Conv2D)              (None, 15, 15, 64)   26688       max_pooling2d_5[0][0]            \n",
      "__________________________________________________________________________________________________\n",
      "concatenate_2 (Concatenate)     (None, 15, 15, 480)  0           conv2d_15[0][0]                  \n",
      "                                                                 conv2d_17[0][0]                  \n",
      "                                                                 conv2d_18[0][0]                  \n",
      "                                                                 conv2d_20[0][0]                  \n",
      "__________________________________________________________________________________________________\n",
      "conv2d_23 (Conv2D)              (None, 15, 15, 112)  53872       concatenate_2[0][0]              \n",
      "__________________________________________________________________________________________________\n",
      "max_pooling2d_6 (MaxPooling2D)  (None, 15, 15, 480)  0           concatenate_2[0][0]              \n",
      "__________________________________________________________________________________________________\n",
      "conv2d_22 (Conv2D)              (None, 15, 15, 160)  76960       concatenate_2[0][0]              \n",
      "__________________________________________________________________________________________________\n",
      "conv2d_24 (Conv2D)              (None, 15, 15, 224)  25312       conv2d_23[0][0]                  \n",
      "__________________________________________________________________________________________________\n",
      "conv2d_25 (Conv2D)              (None, 15, 15, 24)   288024      concatenate_2[0][0]              \n",
      "__________________________________________________________________________________________________\n",
      "conv2d_27 (Conv2D)              (None, 15, 15, 64)   30784       max_pooling2d_6[0][0]            \n",
      "__________________________________________________________________________________________________\n",
      "concatenate_3 (Concatenate)     (None, 15, 15, 472)  0           conv2d_22[0][0]                  \n",
      "                                                                 conv2d_24[0][0]                  \n",
      "                                                                 conv2d_25[0][0]                  \n",
      "                                                                 conv2d_27[0][0]                  \n",
      "__________________________________________________________________________________________________\n",
      "conv2d_29 (Conv2D)              (None, 15, 15, 128)  60544       concatenate_3[0][0]              \n",
      "__________________________________________________________________________________________________\n",
      "max_pooling2d_7 (MaxPooling2D)  (None, 15, 15, 472)  0           concatenate_3[0][0]              \n",
      "__________________________________________________________________________________________________\n",
      "conv2d_28 (Conv2D)              (None, 15, 15, 128)  60544       concatenate_3[0][0]              \n",
      "__________________________________________________________________________________________________\n",
      "conv2d_30 (Conv2D)              (None, 15, 15, 256)  33024       conv2d_29[0][0]                  \n",
      "__________________________________________________________________________________________________\n",
      "conv2d_31 (Conv2D)              (None, 15, 15, 24)   283224      concatenate_3[0][0]              \n",
      "__________________________________________________________________________________________________\n",
      "conv2d_33 (Conv2D)              (None, 15, 15, 64)   30272       max_pooling2d_7[0][0]            \n",
      "__________________________________________________________________________________________________\n",
      "concatenate_4 (Concatenate)     (None, 15, 15, 472)  0           conv2d_28[0][0]                  \n",
      "                                                                 conv2d_30[0][0]                  \n",
      "                                                                 conv2d_31[0][0]                  \n",
      "                                                                 conv2d_33[0][0]                  \n",
      "__________________________________________________________________________________________________\n",
      "conv2d_35 (Conv2D)              (None, 15, 15, 144)  68112       concatenate_4[0][0]              \n",
      "__________________________________________________________________________________________________\n",
      "max_pooling2d_8 (MaxPooling2D)  (None, 15, 15, 472)  0           concatenate_4[0][0]              \n",
      "__________________________________________________________________________________________________\n",
      "conv2d_34 (Conv2D)              (None, 15, 15, 112)  52976       concatenate_4[0][0]              \n",
      "__________________________________________________________________________________________________\n",
      "conv2d_36 (Conv2D)              (None, 15, 15, 288)  41760       conv2d_35[0][0]                  \n",
      "__________________________________________________________________________________________________\n",
      "conv2d_37 (Conv2D)              (None, 15, 15, 32)   377632      concatenate_4[0][0]              \n",
      "__________________________________________________________________________________________________\n",
      "conv2d_39 (Conv2D)              (None, 15, 15, 64)   30272       max_pooling2d_8[0][0]            \n",
      "__________________________________________________________________________________________________\n",
      "concatenate_5 (Concatenate)     (None, 15, 15, 496)  0           conv2d_34[0][0]                  \n",
      "                                                                 conv2d_36[0][0]                  \n",
      "                                                                 conv2d_37[0][0]                  \n",
      "                                                                 conv2d_39[0][0]                  \n",
      "__________________________________________________________________________________________________\n",
      "conv2d_42 (Conv2D)              (None, 15, 15, 160)  79520       concatenate_5[0][0]              \n",
      "__________________________________________________________________________________________________\n",
      "max_pooling2d_9 (MaxPooling2D)  (None, 15, 15, 496)  0           concatenate_5[0][0]              \n",
      "__________________________________________________________________________________________________\n",
      "conv2d_41 (Conv2D)              (None, 15, 15, 256)  127232      concatenate_5[0][0]              \n",
      "__________________________________________________________________________________________________\n",
      "conv2d_43 (Conv2D)              (None, 15, 15, 320)  51520       conv2d_42[0][0]                  \n",
      "__________________________________________________________________________________________________\n",
      "conv2d_44 (Conv2D)              (None, 15, 15, 32)   396832      concatenate_5[0][0]              \n",
      "__________________________________________________________________________________________________\n",
      "conv2d_46 (Conv2D)              (None, 15, 15, 128)  63616       max_pooling2d_9[0][0]            \n",
      "__________________________________________________________________________________________________\n",
      "concatenate_6 (Concatenate)     (None, 15, 15, 736)  0           conv2d_41[0][0]                  \n",
      "                                                                 conv2d_43[0][0]                  \n",
      "                                                                 conv2d_44[0][0]                  \n",
      "                                                                 conv2d_46[0][0]                  \n",
      "__________________________________________________________________________________________________\n",
      "max_pooling2d_10 (MaxPooling2D) (None, 8, 8, 736)    0           concatenate_6[0][0]              \n",
      "__________________________________________________________________________________________________\n",
      "conv2d_48 (Conv2D)              (None, 8, 8, 160)    117920      max_pooling2d_10[0][0]           \n",
      "__________________________________________________________________________________________________\n",
      "max_pooling2d_11 (MaxPooling2D) (None, 8, 8, 736)    0           max_pooling2d_10[0][0]           \n",
      "__________________________________________________________________________________________________\n",
      "conv2d_47 (Conv2D)              (None, 8, 8, 256)    188672      max_pooling2d_10[0][0]           \n",
      "__________________________________________________________________________________________________\n",
      "conv2d_49 (Conv2D)              (None, 8, 8, 320)    51520       conv2d_48[0][0]                  \n",
      "__________________________________________________________________________________________________\n",
      "conv2d_50 (Conv2D)              (None, 8, 8, 32)     588832      max_pooling2d_10[0][0]           \n",
      "__________________________________________________________________________________________________\n",
      "conv2d_52 (Conv2D)              (None, 8, 8, 128)    94336       max_pooling2d_11[0][0]           \n",
      "__________________________________________________________________________________________________\n",
      "concatenate_7 (Concatenate)     (None, 8, 8, 736)    0           conv2d_47[0][0]                  \n",
      "                                                                 conv2d_49[0][0]                  \n",
      "                                                                 conv2d_50[0][0]                  \n",
      "                                                                 conv2d_52[0][0]                  \n",
      "__________________________________________________________________________________________________\n",
      "conv2d_54 (Conv2D)              (None, 8, 8, 192)    141504      concatenate_7[0][0]              \n",
      "__________________________________________________________________________________________________\n",
      "max_pooling2d_12 (MaxPooling2D) (None, 8, 8, 736)    0           concatenate_7[0][0]              \n",
      "__________________________________________________________________________________________________\n",
      "conv2d_53 (Conv2D)              (None, 8, 8, 384)    283008      concatenate_7[0][0]              \n",
      "__________________________________________________________________________________________________\n",
      "conv2d_55 (Conv2D)              (None, 8, 8, 384)    74112       conv2d_54[0][0]                  \n",
      "__________________________________________________________________________________________________\n",
      "conv2d_56 (Conv2D)              (None, 8, 8, 48)     883248      concatenate_7[0][0]              \n",
      "__________________________________________________________________________________________________\n",
      "conv2d_58 (Conv2D)              (None, 8, 8, 128)    94336       max_pooling2d_12[0][0]           \n",
      "__________________________________________________________________________________________________\n",
      "concatenate_8 (Concatenate)     (None, 8, 8, 944)    0           conv2d_53[0][0]                  \n",
      "                                                                 conv2d_55[0][0]                  \n",
      "                                                                 conv2d_56[0][0]                  \n",
      "                                                                 conv2d_58[0][0]                  \n",
      "__________________________________________________________________________________________________\n",
      "average_pooling2d (AveragePooli (None, 4, 4, 480)    0           concatenate_2[0][0]              \n",
      "__________________________________________________________________________________________________\n",
      "average_pooling2d_1 (AveragePoo (None, 4, 4, 496)    0           concatenate_5[0][0]              \n",
      "__________________________________________________________________________________________________\n",
      "average_pooling2d_2 (AveragePoo (None, 8, 8, 944)    0           concatenate_8[0][0]              \n",
      "__________________________________________________________________________________________________\n",
      "conv2d_21 (Conv2D)              (None, 4, 4, 128)    61568       average_pooling2d[0][0]          \n",
      "__________________________________________________________________________________________________\n",
      "conv2d_40 (Conv2D)              (None, 4, 4, 128)    63616       average_pooling2d_1[0][0]        \n",
      "__________________________________________________________________________________________________\n",
      "flatten_2 (Flatten)             (None, 60416)        0           average_pooling2d_2[0][0]        \n",
      "__________________________________________________________________________________________________\n",
      "flatten (Flatten)               (None, 2048)         0           conv2d_21[0][0]                  \n",
      "__________________________________________________________________________________________________\n",
      "flatten_1 (Flatten)             (None, 2048)         0           conv2d_40[0][0]                  \n",
      "__________________________________________________________________________________________________\n",
      "dropout_2 (Dropout)             (None, 60416)        0           flatten_2[0][0]                  \n",
      "__________________________________________________________________________________________________\n",
      "dense (Dense)                   (None, 255)          522495      flatten[0][0]                    \n",
      "__________________________________________________________________________________________________\n",
      "dense_1 (Dense)                 (None, 255)          522495      flatten_1[0][0]                  \n",
      "__________________________________________________________________________________________________\n",
      "dense_2 (Dense)                 (None, 256)          15466752    dropout_2[0][0]                  \n",
      "__________________________________________________________________________________________________\n",
      "dropout (Dropout)               (None, 255)          0           dense[0][0]                      \n",
      "__________________________________________________________________________________________________\n",
      "dropout_1 (Dropout)             (None, 255)          0           dense_1[0][0]                    \n",
      "__________________________________________________________________________________________________\n",
      "final_layer_2 (Dense)           (None, 38)           9766        dense_2[0][0]                    \n",
      "__________________________________________________________________________________________________\n",
      "final_layer_0 (Dense)           (None, 38)           9728        dropout[0][0]                    \n",
      "__________________________________________________________________________________________________\n",
      "final_layer_1 (Dense)           (None, 38)           9728        dropout_1[0][0]                  \n",
      "==================================================================================================\n",
      "Total params: 22,294,692\n",
      "Trainable params: 22,294,180\n",
      "Non-trainable params: 512\n",
      "__________________________________________________________________________________________________\n"
     ]
    }
   ],
   "source": [
    "model=googlenet()\n",
    "model.summary()"
   ]
  },
  {
   "cell_type": "code",
   "execution_count": 19,
   "metadata": {
    "execution": {
     "iopub.execute_input": "2023-07-19T13:14:29.469240Z",
     "iopub.status.busy": "2023-07-19T13:14:29.468367Z",
     "iopub.status.idle": "2023-07-19T13:14:29.486754Z",
     "shell.execute_reply": "2023-07-19T13:14:29.485788Z",
     "shell.execute_reply.started": "2023-07-19T13:14:29.469200Z"
    }
   },
   "outputs": [],
   "source": [
    "learning_rate = 0.001\n",
    "\n",
    "opti = Adam(learning_rate=learning_rate)\n",
    "\n",
    "model.compile(loss=['categorical_crossentropy', 'categorical_crossentropy', 'categorical_crossentropy'], loss_weights=[1, 0.3, 0.3], optimizer=opti, metrics=['accuracy'])"
   ]
  },
  {
   "cell_type": "code",
   "execution_count": 20,
   "metadata": {
    "execution": {
     "iopub.execute_input": "2023-07-19T13:14:29.490467Z",
     "iopub.status.busy": "2023-07-19T13:14:29.490181Z",
     "iopub.status.idle": "2023-07-19T19:03:15.765854Z",
     "shell.execute_reply": "2023-07-19T19:03:15.764774Z",
     "shell.execute_reply.started": "2023-07-19T13:14:29.490440Z"
    }
   },
   "outputs": [
    {
     "name": "stdout",
     "output_type": "stream",
     "text": [
      "Epoch 1/30\n",
      "2196/2196 [==============================] - 721s 323ms/step - loss: 2.6409 - final_layer_2_loss: 1.6405 - final_layer_0_loss: 1.6091 - final_layer_1_loss: 1.7254 - final_layer_2_accuracy: 0.5200 - final_layer_0_accuracy: 0.5216 - final_layer_1_accuracy: 0.4850 - val_loss: 9.7462 - val_final_layer_2_loss: 6.1847 - val_final_layer_0_loss: 5.3247 - val_final_layer_1_loss: 6.5467 - val_final_layer_2_accuracy: 0.1211 - val_final_layer_0_accuracy: 0.1903 - val_final_layer_1_accuracy: 0.1420\n",
      "Epoch 2/30\n",
      "2196/2196 [==============================] - 700s 319ms/step - loss: 0.9427 - final_layer_2_loss: 0.5596 - final_layer_0_loss: 0.6304 - final_layer_1_loss: 0.6469 - final_layer_2_accuracy: 0.8240 - final_layer_0_accuracy: 0.8034 - final_layer_1_accuracy: 0.7991 - val_loss: 2.4256 - val_final_layer_2_loss: 1.5566 - val_final_layer_0_loss: 1.4189 - val_final_layer_1_loss: 1.4778 - val_final_layer_2_accuracy: 0.6247 - val_final_layer_0_accuracy: 0.6526 - val_final_layer_1_accuracy: 0.6458\n",
      "Epoch 3/30\n",
      "2196/2196 [==============================] - 694s 316ms/step - loss: 0.6164 - final_layer_2_loss: 0.3687 - final_layer_0_loss: 0.4135 - final_layer_1_loss: 0.4119 - final_layer_2_accuracy: 0.8863 - final_layer_0_accuracy: 0.8721 - final_layer_1_accuracy: 0.8746 - val_loss: 2.1931 - val_final_layer_2_loss: 1.4782 - val_final_layer_0_loss: 1.1678 - val_final_layer_1_loss: 1.2154 - val_final_layer_2_accuracy: 0.6595 - val_final_layer_0_accuracy: 0.7023 - val_final_layer_1_accuracy: 0.6990\n",
      "Epoch 4/30\n",
      "2196/2196 [==============================] - 657s 299ms/step - loss: 0.4908 - final_layer_2_loss: 0.2984 - final_layer_0_loss: 0.3242 - final_layer_1_loss: 0.3173 - final_layer_2_accuracy: 0.9079 - final_layer_0_accuracy: 0.9019 - final_layer_1_accuracy: 0.9021 - val_loss: 2.1640 - val_final_layer_2_loss: 1.3709 - val_final_layer_0_loss: 1.3083 - val_final_layer_1_loss: 1.3351 - val_final_layer_2_accuracy: 0.6664 - val_final_layer_0_accuracy: 0.6828 - val_final_layer_1_accuracy: 0.6728\n",
      "Epoch 5/30\n",
      "2196/2196 [==============================] - 670s 305ms/step - loss: 0.4169 - final_layer_2_loss: 0.2562 - final_layer_0_loss: 0.2699 - final_layer_1_loss: 0.2658 - final_layer_2_accuracy: 0.9232 - final_layer_0_accuracy: 0.9177 - final_layer_1_accuracy: 0.9183 - val_loss: 0.6078 - val_final_layer_2_loss: 0.3876 - val_final_layer_0_loss: 0.3841 - val_final_layer_1_loss: 0.3499 - val_final_layer_2_accuracy: 0.8871 - val_final_layer_0_accuracy: 0.8845 - val_final_layer_1_accuracy: 0.8890\n",
      "Epoch 6/30\n",
      "2196/2196 [==============================] - 678s 309ms/step - loss: 0.3568 - final_layer_2_loss: 0.2185 - final_layer_0_loss: 0.2346 - final_layer_1_loss: 0.2265 - final_layer_2_accuracy: 0.9337 - final_layer_0_accuracy: 0.9283 - final_layer_1_accuracy: 0.9315 - val_loss: 2.6751 - val_final_layer_2_loss: 1.7255 - val_final_layer_0_loss: 1.7877 - val_final_layer_1_loss: 1.3774 - val_final_layer_2_accuracy: 0.6359 - val_final_layer_0_accuracy: 0.6286 - val_final_layer_1_accuracy: 0.6803\n",
      "Epoch 7/30\n",
      "2196/2196 [==============================] - 699s 318ms/step - loss: 0.3326 - final_layer_2_loss: 0.2063 - final_layer_0_loss: 0.2146 - final_layer_1_loss: 0.2066 - final_layer_2_accuracy: 0.9390 - final_layer_0_accuracy: 0.9362 - final_layer_1_accuracy: 0.9378 - val_loss: 1.0466 - val_final_layer_2_loss: 0.6491 - val_final_layer_0_loss: 0.7468 - val_final_layer_1_loss: 0.5784 - val_final_layer_2_accuracy: 0.8444 - val_final_layer_0_accuracy: 0.8132 - val_final_layer_1_accuracy: 0.8591\n",
      "Epoch 8/30\n",
      "2196/2196 [==============================] - 672s 306ms/step - loss: 0.3033 - final_layer_2_loss: 0.1870 - final_layer_0_loss: 0.1984 - final_layer_1_loss: 0.1892 - final_layer_2_accuracy: 0.9442 - final_layer_0_accuracy: 0.9419 - final_layer_1_accuracy: 0.9442 - val_loss: 1.3631 - val_final_layer_2_loss: 0.8076 - val_final_layer_0_loss: 0.8577 - val_final_layer_1_loss: 0.9942 - val_final_layer_2_accuracy: 0.8240 - val_final_layer_0_accuracy: 0.8221 - val_final_layer_1_accuracy: 0.8041\n",
      "Epoch 9/30\n",
      "2196/2196 [==============================] - 702s 320ms/step - loss: 0.2794 - final_layer_2_loss: 0.1721 - final_layer_0_loss: 0.1788 - final_layer_1_loss: 0.1791 - final_layer_2_accuracy: 0.9490 - final_layer_0_accuracy: 0.9478 - final_layer_1_accuracy: 0.9467 - val_loss: 0.8257 - val_final_layer_2_loss: 0.5056 - val_final_layer_0_loss: 0.4955 - val_final_layer_1_loss: 0.5715 - val_final_layer_2_accuracy: 0.8709 - val_final_layer_0_accuracy: 0.8719 - val_final_layer_1_accuracy: 0.8533\n",
      "Epoch 10/30\n",
      "2196/2196 [==============================] - 695s 316ms/step - loss: 0.2565 - final_layer_2_loss: 0.1587 - final_layer_0_loss: 0.1686 - final_layer_1_loss: 0.1573 - final_layer_2_accuracy: 0.9531 - final_layer_0_accuracy: 0.9513 - final_layer_1_accuracy: 0.9527 - val_loss: 1.4183 - val_final_layer_2_loss: 0.8783 - val_final_layer_0_loss: 0.9645 - val_final_layer_1_loss: 0.8356 - val_final_layer_2_accuracy: 0.7916 - val_final_layer_0_accuracy: 0.8194 - val_final_layer_1_accuracy: 0.8282\n",
      "Epoch 11/30\n",
      "2196/2196 [==============================] - 656s 299ms/step - loss: 0.2592 - final_layer_2_loss: 0.1604 - final_layer_0_loss: 0.1683 - final_layer_1_loss: 0.1608 - final_layer_2_accuracy: 0.9528 - final_layer_0_accuracy: 0.9513 - final_layer_1_accuracy: 0.9529 - val_loss: 0.7552 - val_final_layer_2_loss: 0.4513 - val_final_layer_0_loss: 0.4987 - val_final_layer_1_loss: 0.5145 - val_final_layer_2_accuracy: 0.8811 - val_final_layer_0_accuracy: 0.8786 - val_final_layer_1_accuracy: 0.8851\n",
      "Epoch 12/30\n",
      "2196/2196 [==============================] - 692s 315ms/step - loss: 0.2515 - final_layer_2_loss: 0.1549 - final_layer_0_loss: 0.1642 - final_layer_1_loss: 0.1580 - final_layer_2_accuracy: 0.9542 - final_layer_0_accuracy: 0.9528 - final_layer_1_accuracy: 0.9542 - val_loss: 0.6804 - val_final_layer_2_loss: 0.3805 - val_final_layer_0_loss: 0.5595 - val_final_layer_1_loss: 0.4399 - val_final_layer_2_accuracy: 0.8978 - val_final_layer_0_accuracy: 0.8771 - val_final_layer_1_accuracy: 0.8914\n",
      "Epoch 13/30\n",
      "2196/2196 [==============================] - 662s 302ms/step - loss: 0.2368 - final_layer_2_loss: 0.1468 - final_layer_0_loss: 0.1540 - final_layer_1_loss: 0.1459 - final_layer_2_accuracy: 0.9574 - final_layer_0_accuracy: 0.9566 - final_layer_1_accuracy: 0.9569 - val_loss: 0.2250 - val_final_layer_2_loss: 0.1513 - val_final_layer_0_loss: 0.1163 - val_final_layer_1_loss: 0.1292 - val_final_layer_2_accuracy: 0.9545 - val_final_layer_0_accuracy: 0.9660 - val_final_layer_1_accuracy: 0.9612\n",
      "Epoch 14/30\n",
      "2196/2196 [==============================] - 697s 318ms/step - loss: 0.2391 - final_layer_2_loss: 0.1466 - final_layer_0_loss: 0.1597 - final_layer_1_loss: 0.1486 - final_layer_2_accuracy: 0.9566 - final_layer_0_accuracy: 0.9545 - final_layer_1_accuracy: 0.9562 - val_loss: 0.2700 - val_final_layer_2_loss: 0.1576 - val_final_layer_0_loss: 0.2033 - val_final_layer_1_loss: 0.1711 - val_final_layer_2_accuracy: 0.9555 - val_final_layer_0_accuracy: 0.9491 - val_final_layer_1_accuracy: 0.9503\n",
      "Epoch 15/30\n",
      "2196/2196 [==============================] - 695s 316ms/step - loss: 0.2327 - final_layer_2_loss: 0.1441 - final_layer_0_loss: 0.1487 - final_layer_1_loss: 0.1466 - final_layer_2_accuracy: 0.9590 - final_layer_0_accuracy: 0.9587 - final_layer_1_accuracy: 0.9580 - val_loss: 0.4167 - val_final_layer_2_loss: 0.2671 - val_final_layer_0_loss: 0.2528 - val_final_layer_1_loss: 0.2461 - val_final_layer_2_accuracy: 0.9358 - val_final_layer_0_accuracy: 0.9406 - val_final_layer_1_accuracy: 0.9398\n",
      "Epoch 16/30\n",
      "2196/2196 [==============================] - 657s 299ms/step - loss: 0.2142 - final_layer_2_loss: 0.1320 - final_layer_0_loss: 0.1387 - final_layer_1_loss: 0.1356 - final_layer_2_accuracy: 0.9616 - final_layer_0_accuracy: 0.9608 - final_layer_1_accuracy: 0.9610 - val_loss: 0.1092 - val_final_layer_2_loss: 0.0731 - val_final_layer_0_loss: 0.0616 - val_final_layer_1_loss: 0.0588 - val_final_layer_2_accuracy: 0.9781 - val_final_layer_0_accuracy: 0.9820 - val_final_layer_1_accuracy: 0.9825\n",
      "Epoch 17/30\n",
      "2196/2196 [==============================] - 695s 316ms/step - loss: 0.2111 - final_layer_2_loss: 0.1300 - final_layer_0_loss: 0.1387 - final_layer_1_loss: 0.1318 - final_layer_2_accuracy: 0.9621 - final_layer_0_accuracy: 0.9620 - final_layer_1_accuracy: 0.9620 - val_loss: 0.5529 - val_final_layer_2_loss: 0.3913 - val_final_layer_0_loss: 0.2285 - val_final_layer_1_loss: 0.3103 - val_final_layer_2_accuracy: 0.9362 - val_final_layer_0_accuracy: 0.9498 - val_final_layer_1_accuracy: 0.9407\n",
      "Epoch 18/30\n",
      "2196/2196 [==============================] - 662s 301ms/step - loss: 0.2361 - final_layer_2_loss: 0.1486 - final_layer_0_loss: 0.1469 - final_layer_1_loss: 0.1446 - final_layer_2_accuracy: 0.9589 - final_layer_0_accuracy: 0.9598 - final_layer_1_accuracy: 0.9594 - val_loss: 0.2300 - val_final_layer_2_loss: 0.1456 - val_final_layer_0_loss: 0.1495 - val_final_layer_1_loss: 0.1319 - val_final_layer_2_accuracy: 0.9581 - val_final_layer_0_accuracy: 0.9610 - val_final_layer_1_accuracy: 0.9620\n",
      "Epoch 19/30\n",
      "2196/2196 [==============================] - 691s 315ms/step - loss: 0.2063 - final_layer_2_loss: 0.1277 - final_layer_0_loss: 0.1317 - final_layer_1_loss: 0.1303 - final_layer_2_accuracy: 0.9634 - final_layer_0_accuracy: 0.9638 - final_layer_1_accuracy: 0.9626 - val_loss: 0.1477 - val_final_layer_2_loss: 0.1025 - val_final_layer_0_loss: 0.0764 - val_final_layer_1_loss: 0.0742 - val_final_layer_2_accuracy: 0.9684 - val_final_layer_0_accuracy: 0.9768 - val_final_layer_1_accuracy: 0.9758\n",
      "Epoch 20/30\n",
      "2196/2196 [==============================] - 696s 317ms/step - loss: 0.2081 - final_layer_2_loss: 0.1267 - final_layer_0_loss: 0.1384 - final_layer_1_loss: 0.1332 - final_layer_2_accuracy: 0.9638 - final_layer_0_accuracy: 0.9615 - final_layer_1_accuracy: 0.9623 - val_loss: 0.7573 - val_final_layer_2_loss: 0.4034 - val_final_layer_0_loss: 0.7535 - val_final_layer_1_loss: 0.4260 - val_final_layer_2_accuracy: 0.9030 - val_final_layer_0_accuracy: 0.8981 - val_final_layer_1_accuracy: 0.9050\n",
      "Epoch 21/30\n",
      "2196/2196 [==============================] - 694s 316ms/step - loss: 0.2027 - final_layer_2_loss: 0.1255 - final_layer_0_loss: 0.1289 - final_layer_1_loss: 0.1282 - final_layer_2_accuracy: 0.9652 - final_layer_0_accuracy: 0.9651 - final_layer_1_accuracy: 0.9641 - val_loss: 2.7293 - val_final_layer_2_loss: 1.5236 - val_final_layer_0_loss: 2.1730 - val_final_layer_1_loss: 1.8462 - val_final_layer_2_accuracy: 0.7071 - val_final_layer_0_accuracy: 0.7189 - val_final_layer_1_accuracy: 0.7118\n",
      "Epoch 22/30\n",
      "2196/2196 [==============================] - 693s 316ms/step - loss: 0.2119 - final_layer_2_loss: 0.1297 - final_layer_0_loss: 0.1407 - final_layer_1_loss: 0.1333 - final_layer_2_accuracy: 0.9630 - final_layer_0_accuracy: 0.9625 - final_layer_1_accuracy: 0.9626 - val_loss: 1.2977 - val_final_layer_2_loss: 0.6597 - val_final_layer_0_loss: 1.2375 - val_final_layer_1_loss: 0.8893 - val_final_layer_2_accuracy: 0.8493 - val_final_layer_0_accuracy: 0.8210 - val_final_layer_1_accuracy: 0.8304\n",
      "Epoch 23/30\n",
      "2196/2196 [==============================] - 661s 301ms/step - loss: 0.2107 - final_layer_2_loss: 0.1282 - final_layer_0_loss: 0.1416 - final_layer_1_loss: 0.1336 - final_layer_2_accuracy: 0.9637 - final_layer_0_accuracy: 0.9626 - final_layer_1_accuracy: 0.9621 - val_loss: 0.1285 - val_final_layer_2_loss: 0.0814 - val_final_layer_0_loss: 0.0832 - val_final_layer_1_loss: 0.0738 - val_final_layer_2_accuracy: 0.9751 - val_final_layer_0_accuracy: 0.9777 - val_final_layer_1_accuracy: 0.9786\n",
      "Epoch 24/30\n",
      "2196/2196 [==============================] - 696s 317ms/step - loss: 0.1916 - final_layer_2_loss: 0.1159 - final_layer_0_loss: 0.1253 - final_layer_1_loss: 0.1270 - final_layer_2_accuracy: 0.9673 - final_layer_0_accuracy: 0.9654 - final_layer_1_accuracy: 0.9650 - val_loss: 0.5782 - val_final_layer_2_loss: 0.3425 - val_final_layer_0_loss: 0.4426 - val_final_layer_1_loss: 0.3430 - val_final_layer_2_accuracy: 0.9135 - val_final_layer_0_accuracy: 0.9073 - val_final_layer_1_accuracy: 0.9168\n",
      "Epoch 25/30\n",
      "2196/2196 [==============================] - 691s 315ms/step - loss: 0.2027 - final_layer_2_loss: 0.1224 - final_layer_0_loss: 0.1339 - final_layer_1_loss: 0.1335 - final_layer_2_accuracy: 0.9645 - final_layer_0_accuracy: 0.9635 - final_layer_1_accuracy: 0.9624 - val_loss: 0.6830 - val_final_layer_2_loss: 0.3747 - val_final_layer_0_loss: 0.6140 - val_final_layer_1_loss: 0.4136 - val_final_layer_2_accuracy: 0.9116 - val_final_layer_0_accuracy: 0.8965 - val_final_layer_1_accuracy: 0.9126\n",
      "Epoch 26/30\n",
      "2196/2196 [==============================] - 657s 299ms/step - loss: 0.1948 - final_layer_2_loss: 0.1176 - final_layer_0_loss: 0.1326 - final_layer_1_loss: 0.1245 - final_layer_2_accuracy: 0.9667 - final_layer_0_accuracy: 0.9643 - final_layer_1_accuracy: 0.9653 - val_loss: 0.4397 - val_final_layer_2_loss: 0.3097 - val_final_layer_0_loss: 0.2297 - val_final_layer_1_loss: 0.2037 - val_final_layer_2_accuracy: 0.9346 - val_final_layer_0_accuracy: 0.9471 - val_final_layer_1_accuracy: 0.9488\n",
      "Epoch 27/30\n",
      "2196/2196 [==============================] - 656s 299ms/step - loss: 0.1940 - final_layer_2_loss: 0.1177 - final_layer_0_loss: 0.1305 - final_layer_1_loss: 0.1241 - final_layer_2_accuracy: 0.9661 - final_layer_0_accuracy: 0.9659 - final_layer_1_accuracy: 0.9660 - val_loss: 0.2720 - val_final_layer_2_loss: 0.1663 - val_final_layer_0_loss: 0.1859 - val_final_layer_1_loss: 0.1666 - val_final_layer_2_accuracy: 0.9537 - val_final_layer_0_accuracy: 0.9514 - val_final_layer_1_accuracy: 0.9518\n",
      "2196/2196 [==============================] - 660s 301ms/step - loss: 0.1945 - final_layer_2_loss: 0.1180 - final_layer_0_loss: 0.1286 - final_layer_1_loss: 0.1266 - final_layer_2_accuracy: 0.9653 - final_layer_0_accuracy: 0.9660 - final_layer_1_accuracy: 0.9643 - val_loss: 1.6607 - val_final_layer_2_loss: 0.8025 - val_final_layer_0_loss: 1.8793 - val_final_layer_1_loss: 0.9814 - val_final_layer_2_accuracy: 0.8155 - val_final_layer_0_accuracy: 0.7599 - val_final_layer_1_accuracy: 0.8041\n",
      "Epoch 29/30\n",
      "2196/2196 [==============================] - 691s 315ms/step - loss: 0.1966 - final_layer_2_loss: 0.1217 - final_layer_0_loss: 0.1260 - final_layer_1_loss: 0.1236 - final_layer_2_accuracy: 0.9668 - final_layer_0_accuracy: 0.9666 - final_layer_1_accuracy: 0.9648 - val_loss: 0.3371 - val_final_layer_2_loss: 0.2099 - val_final_layer_0_loss: 0.2330 - val_final_layer_1_loss: 0.1909 - val_final_layer_2_accuracy: 0.9428 - val_final_layer_0_accuracy: 0.9506 - val_final_layer_1_accuracy: 0.9476\n",
      "Epoch 30/30\n",
      "2196/2196 [==============================] - 690s 314ms/step - loss: 0.2018 - final_layer_2_loss: 0.1216 - final_layer_0_loss: 0.1365 - final_layer_1_loss: 0.1310 - final_layer_2_accuracy: 0.9654 - final_layer_0_accuracy: 0.9642 - final_layer_1_accuracy: 0.9640 - val_loss: 0.1440 - val_final_layer_2_loss: 0.0887 - val_final_layer_0_loss: 0.0909 - val_final_layer_1_loss: 0.0934 - val_final_layer_2_accuracy: 0.9742 - val_final_layer_0_accuracy: 0.9766 - val_final_layer_1_accuracy: 0.9733\n"
     ]
    }
   ],
   "source": [
    "history = model.fit(train_data_generator,\n",
    "                    validation_data=valid_data_generator,\n",
    "                    steps_per_epoch=train_number // batch_size,\n",
    "                    epochs=30,\n",
    "                    validation_steps=valid_number // batch_size,\n",
    "                    verbose=1)\n"
   ]
  },
  {
   "cell_type": "markdown",
   "metadata": {},
   "source": [
    "\n",
    "### Accuracy vs Epochs\n",
    "\n"
   ]
  },
  {
   "cell_type": "code",
   "execution_count": 22,
   "metadata": {
    "execution": {
     "iopub.execute_input": "2023-07-19T19:03:16.211149Z",
     "iopub.status.busy": "2023-07-19T19:03:16.210354Z",
     "iopub.status.idle": "2023-07-19T19:03:16.631903Z",
     "shell.execute_reply": "2023-07-19T19:03:16.630880Z",
     "shell.execute_reply.started": "2023-07-19T19:03:16.211108Z"
    }
   },
   "outputs": [
    {
     "data": {
      "image/png": "[encoded data removed]",
      "text/plain": [
       "<Figure size 1440x720 with 2 Axes>"
      ]
     },
     "metadata": {
      "needs_background": "light"
     },
     "output_type": "display_data"
    }
   ],
   "source": [
    "def plot_history_accuracy_validation_accuracy(history):\n",
    "    \n",
    "    # Plot the accuracy of each layer\n",
    "    plt.figure(figsize=(20,10))\n",
    "    plt.subplot(121)\n",
    "    plt.plot(history.history['final_layer_0_accuracy'], label='final_layer_0_accuracy',marker=\"o\",linestyle=\"--\",color=\"c\",linewidth=4,markersize=10)\n",
    "    plt.plot(history.history['final_layer_1_accuracy'], label='final_layer_1_accuracy',marker=\"v\",linestyle=\"--\",color=\"k\",linewidth=4,markersize=10)\n",
    "    plt.plot(history.history['final_layer_2_accuracy'], label='final_layer_2_accuracy',marker=\"H\",linestyle=\"--\",color=\"b\",linewidth=4,markersize=10)\n",
    "    plt.title('Accuracy of Each Layer')\n",
    "    plt.xlabel('Epoch')\n",
    "    plt.ylabel('Accuracy')\n",
    "    plt.legend()\n",
    "    \n",
    "    # Plot the loss of each layer\n",
    "    plt.subplot(122)\n",
    "    plt.plot(history.history['val_final_layer_0_accuracy'], label='val_final_layer_0_accuracy',marker=\"o\",linestyle=\"--\",color=\"c\",linewidth=4,markersize=10)\n",
    "    plt.plot(history.history['val_final_layer_1_accuracy'], label='val_final_layer_1_accuracy',marker=\"v\",linestyle=\"--\",color=\"k\",linewidth=4,markersize=10)\n",
    "    plt.plot(history.history['val_final_layer_2_accuracy'], label='val_final_layer_2_accuracy',marker=\"H\",linestyle=\"--\",color=\"b\",linewidth=4,markersize=10)\n",
    "    plt.title('Validation Accuracy of Each layer')\n",
    "    plt.xlabel('Epoch')\n",
    "    plt.ylabel('Loss')\n",
    "    plt.legend()\n",
    "    plt.show()\n",
    "\n",
    "plot_history_accuracy_validation_accuracy(history)\n"
   ]
  },
  {
   "cell_type": "markdown",
   "metadata": {},
   "source": [
    "\n",
    "### Save Model"
   ]
  },
  {
   "cell_type": "code",
   "execution_count": 23,
   "metadata": {
    "execution": {
     "iopub.execute_input": "2023-07-19T19:03:16.634353Z",
     "iopub.status.busy": "2023-07-19T19:03:16.633644Z",
     "iopub.status.idle": "2023-07-19T19:03:18.908127Z",
     "shell.execute_reply": "2023-07-19T19:03:18.907062Z",
     "shell.execute_reply.started": "2023-07-19T19:03:16.634311Z"
    }
   },
   "outputs": [],
   "source": [
    "model.save(\"model.h5\")\n",
    "from tensorflow.keras.models import load_model\n",
    "\n",
    "model = load_model(\"model.h5\")"
   ]
  },
  {
   "cell_type": "markdown",
   "metadata": {},
   "source": [
    "### Model Prediction"
   ]
  },
  {
   "cell_type": "code",
   "execution_count": 24,
   "metadata": {
    "execution": {
     "iopub.execute_input": "2023-07-19T19:03:18.910037Z",
     "iopub.status.busy": "2023-07-19T19:03:18.909640Z",
     "iopub.status.idle": "2023-07-19T19:04:12.248131Z",
     "shell.execute_reply": "2023-07-19T19:04:12.247004Z",
     "shell.execute_reply.started": "2023-07-19T19:03:18.909998Z"
    }
   },
   "outputs": [],
   "source": [
    "pred, _, _=model.predict(test_data_generator)\n",
    "final_predict = np.argmax(pred,axis=1)\n",
    "true_data=test_data_generator.classes\n"
   ]
  },
  {
   "cell_type": "markdown",
   "metadata": {},
   "source": [
    "### Accuracy Score"
   ]
  },
  {
   "cell_type": "code",
   "execution_count": 25,
   "metadata": {
    "execution": {
     "iopub.execute_input": "2023-07-19T19:04:12.250183Z",
     "iopub.status.busy": "2023-07-19T19:04:12.249792Z",
     "iopub.status.idle": "2023-07-19T19:04:12.316111Z",
     "shell.execute_reply": "2023-07-19T19:04:12.314727Z",
     "shell.execute_reply.started": "2023-07-19T19:04:12.250143Z"
    }
   },
   "outputs": [
    {
     "data": {
      "image/png": "[encoded data removed]",
      "text/plain": [
       "<Figure size 720x360 with 1 Axes>"
      ]
     },
     "metadata": {},
     "output_type": "display_data"
    }
   ],
   "source": [
    "plt.figure(figsize=(10,5),facecolor=\"white\")\n",
    "acc_score = accuracy_score(true_data,final_predict)\n",
    "plt.plot([])\n",
    "plt.text(0,0, f'Accuracy Score  Score: {acc_score:.4f}', fontsize=20, ha='center', va='center',color=\"crimson\")\n",
    "plt.axis('off')\n",
    "\n",
    "# Set the x-axis limits\n",
    "plt.xlim(-1, 1)\n",
    "plt.ylim(-1,1)\n",
    "\n",
    "plt.show()"
   ]
  },
  {
   "cell_type": "code",
   "execution_count": null,
   "metadata": {},
   "outputs": [],
   "source": [
    "# Calculate F1 score, precision, and recall for GoogleNet\n",
    "f1 = f1_score(true_data, final_predict, average='weighted')\n",
    "precision = precision_score(true_data, final_predict, average='weighted')\n",
    "recall = recall_score(true_data, final_predict, average='weighted')\n",
    "\n",
    "# Print the evaluation metrics\n",
    "print(\"F1 Score:\", f1)\n",
    "print(\"Precision:\", precision)\n",
    "print(\"Recall:\", recall)"
   ]
  },
  {
   "cell_type": "markdown",
   "metadata": {},
   "source": [
    "######  F1 Score: 0.9558944457821144\n",
    "######  Precision: 0.9583485035025264\n",
    "######  Recall: 0.9560095606646938"
   ]
  }
 ],
 "metadata": {
  "kernelspec": {
   "display_name": "Python 3",
   "language": "python",
   "name": "python3"
  },
  "language_info": {
   "codemirror_mode": {
    "name": "ipython",
    "version": 3
   },
   "file_extension": ".py",
   "mimetype": "text/x-python",
   "name": "python",
   "nbconvert_exporter": "python",
   "pygments_lexer": "ipython3",
   "version": "3.8.8"
  }
 },
 "nbformat": 4,
 "nbformat_minor": 4
}
